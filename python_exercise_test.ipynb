{
  "nbformat": 4,
  "nbformat_minor": 0,
  "metadata": {
    "colab": {
      "name": "python_exercise_test.ipynb",
      "provenance": [],
      "authorship_tag": "ABX9TyOy1aAuW8Uo4dviur+yRcgi",
      "include_colab_link": true
    },
    "kernelspec": {
      "name": "python3",
      "display_name": "Python 3"
    },
    "language_info": {
      "name": "python"
    }
  },
  "cells": [
    {
      "cell_type": "markdown",
      "metadata": {
        "id": "view-in-github",
        "colab_type": "text"
      },
      "source": [
        "<a href=\"https://colab.research.google.com/github/milple1742/practice/blob/main/python_exercise_test.ipynb\" target=\"_parent\"><img src=\"https://colab.research.google.com/assets/colab-badge.svg\" alt=\"Open In Colab\"/></a>"
      ]
    },
    {
      "cell_type": "markdown",
      "metadata": {
        "id": "RndmIK4COyQp"
      },
      "source": [
        "# Python Exercise Test\n",
        "Deadline: 없어요\n",
        "\n",
        "\n",
        "## Practice 1\n",
        "\n",
        "오늘도 바쁜 윤섭이는 급하게 발표자료를 만들어 저장하려던 찰나에, 아래와 같이 모든 문장이 쪼개진걸 봤어요.\n",
        "\n",
        "```python\n",
        "[['사','장','님','','안','녕','하','십','니','까','.'],\n",
        " ['오','늘','','너','무','','바','빠','서','','힘','들','었','습','니','다','.'],\n",
        " ['발','표','자','료','는','','천','천','히','','만','들','겠','습','니','다','.'],\n",
        " ['대','단','히','','감','사','합','니','다','.']]\n",
        "```\n",
        "\n",
        "바쁜 윤섭이를 위해 우리가 예쁘게 문장으로 만들어줘요.\n",
        "\n",
        "* 조건 1: 빈 문자열 `''`은 한칸의 공백으로 치환해야 해요. (예: `'공', '', '백'` --> `'공 백'`)\n",
        "\n",
        "윤섭이가 원래 생각했던대로라면 아래와 같이 나와야해요.\n",
        "\n",
        "```python\n",
        "사장님 안녕하십니까.\n",
        "오늘 너무 바빠서 힘들었습니다.\n",
        "발표자료는 천천히 만들겠습니다.\n",
        "대단히 감사합니다.\n",
        "```"
      ]
    },
    {
      "cell_type": "markdown",
      "metadata": {
        "id": "lBdzpODyRVYb"
      },
      "source": [
        "## Practice 2\n",
        "\n",
        "팀원들의 도움으로 발표자료를 살려낸 윤섭이는 이제 저장한 파일을 옮기려고 해요.\n",
        "\n",
        "멋있게 저장하려는 찰나, 회사의 정책상 한글일 경우 보안문자로 변경해야 한다고 해요.\n",
        "\n",
        "아래와 같은 파일 이름을:\n",
        "\n",
        "```python\n",
        "file_name = \"진짜중요_사장님발표자료_210325v1(2).ppt\"\n",
        "```\n",
        "\n",
        "이렇게 바꿔주는 함수 `kor_sec`을 만들어보세요.\n",
        "\n",
        "```python\n",
        "file_name = \"ㅈㅣㄴㅉㅏㅈㅜㅇㅇㅛ_ㅅㅏㅈㅏㅇㄴㅣㅁㅂㅏㄹㅍㅛㅈㅏㄹㅛ_210325v1(2).ppt\"\n",
        "```\n",
        "\n",
        "* 조건 1: 한글만 바꿔야해요. 나머지는 그대로!\n",
        "\n",
        "### Bonus\n",
        "\n",
        "보안문자를 다시 원상복귀 시켜주는 함수 `kor_sec_rev`도 만들어보세요!\n"
      ]
    },
    {
      "cell_type": "code",
      "metadata": {
        "id": "vW20zjidOu_Z"
      },
      "source": [
        ""
      ],
      "execution_count": null,
      "outputs": []
    }
  ]
}