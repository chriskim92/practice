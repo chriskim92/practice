{
 "cells": [
  {
   "cell_type": "markdown",
   "id": "hearing-saturday",
   "metadata": {},
   "source": [
    "# Python Exercise #2\n",
    "Date: 2021년 3월 22일"
   ]
  },
  {
   "cell_type": "markdown",
   "id": "loaded-latino",
   "metadata": {},
   "source": [
    "## Practice 3 - `pandas`\n",
    "\n",
    "_Practice 1_ 은 잘 하셨나요? 앞으로 모든 `pandas` 연습문제는 _Practice 1_ 을 해결한 것과 같은 방식으로 읽어야 할거에요."
   ]
  },
  {
   "cell_type": "markdown",
   "id": "interpreted-weapon",
   "metadata": {},
   "source": [
    "그럼 아래의 `new_str`을 다시 데이터로 만들어봐요\n",
    "\n",
    "```python\n",
    "new_str = \"\"\"name age email\n",
    "jang    40  eundong.jang@igloosec.com\n",
    "chris   30  chris.kim@igloosec.com\n",
    "jinie   20  hyejin.park@igloosec.com\n",
    "simon   30  jonghyeok.lee@igloosec.com\n",
    "sonia   20  namju.kim@igloosec.com\n",
    "sooji   20  sooji.noh@igloosec.com\n",
    "\"\"\"\n",
    "```"
   ]
  },
  {
   "cell_type": "markdown",
   "id": "czech-limit",
   "metadata": {},
   "source": [
    "### 3.1 Name starts with capital letter\n",
    "\n",
    "영어에서 이름은 대문자로 시작한다는 것, 다들 알고 있잖아요?\n",
    "\n",
    "우리 이름들도 다 대문자로 시작하게 만들어주세요\n",
    "\n",
    "* 조건1: `for` 은 사용할 수 없어요\n",
    "\n",
    "잘 되었을 경우 아래와 같이 나올거에요"
   ]
  },
  {
   "cell_type": "code",
   "execution_count": 13,
   "id": "under-region",
   "metadata": {},
   "outputs": [
    {
     "data": {
      "text/html": [
       "<div>\n",
       "<style scoped>\n",
       "    .dataframe tbody tr th:only-of-type {\n",
       "        vertical-align: middle;\n",
       "    }\n",
       "\n",
       "    .dataframe tbody tr th {\n",
       "        vertical-align: top;\n",
       "    }\n",
       "\n",
       "    .dataframe thead th {\n",
       "        text-align: right;\n",
       "    }\n",
       "</style>\n",
       "<table border=\"1\" class=\"dataframe\">\n",
       "  <thead>\n",
       "    <tr style=\"text-align: right;\">\n",
       "      <th></th>\n",
       "      <th>name</th>\n",
       "      <th>age</th>\n",
       "      <th>email</th>\n",
       "    </tr>\n",
       "  </thead>\n",
       "  <tbody>\n",
       "    <tr>\n",
       "      <th>0</th>\n",
       "      <td>Jang</td>\n",
       "      <td>40</td>\n",
       "      <td>eundong.jang@igloosec.com</td>\n",
       "    </tr>\n",
       "    <tr>\n",
       "      <th>1</th>\n",
       "      <td>Chris</td>\n",
       "      <td>30</td>\n",
       "      <td>chris.kim@igloosec.com</td>\n",
       "    </tr>\n",
       "    <tr>\n",
       "      <th>2</th>\n",
       "      <td>Jinie</td>\n",
       "      <td>20</td>\n",
       "      <td>hyejin.park@igloosec.com</td>\n",
       "    </tr>\n",
       "    <tr>\n",
       "      <th>3</th>\n",
       "      <td>Simon</td>\n",
       "      <td>30</td>\n",
       "      <td>jonghyeok.lee@igloosec.com</td>\n",
       "    </tr>\n",
       "    <tr>\n",
       "      <th>4</th>\n",
       "      <td>Sonia</td>\n",
       "      <td>20</td>\n",
       "      <td>namju.kim@igloosec.com</td>\n",
       "    </tr>\n",
       "    <tr>\n",
       "      <th>5</th>\n",
       "      <td>Sooji</td>\n",
       "      <td>20</td>\n",
       "      <td>sooji.noh@igloosec.com</td>\n",
       "    </tr>\n",
       "  </tbody>\n",
       "</table>\n",
       "</div>"
      ],
      "text/plain": [
       "    name  age                       email\n",
       "0   Jang   40   eundong.jang@igloosec.com\n",
       "1  Chris   30      chris.kim@igloosec.com\n",
       "2  Jinie   20    hyejin.park@igloosec.com\n",
       "3  Simon   30  jonghyeok.lee@igloosec.com\n",
       "4  Sonia   20      namju.kim@igloosec.com\n",
       "5  Sooji   20      sooji.noh@igloosec.com"
      ]
     },
     "execution_count": 13,
     "metadata": {},
     "output_type": "execute_result"
    }
   ],
   "source": [
    "df"
   ]
  },
  {
   "cell_type": "markdown",
   "id": "rough-saver",
   "metadata": {},
   "source": [
    "### 3.2 성은 싫어\n",
    "\n",
    "이메일 주소에 성까지 쓰면 너무 거리두는 것 같다는 의견이 나왔어요.\n",
    "6개의 이메일 주소에서 모두 성을 빼줘야해요.\n",
    "\n",
    "* 조건1: `for`은 사용할 수 없어요\n",
    "\n",
    "잘 되었을 경우 아래와 같이 나올거에요"
   ]
  },
  {
   "cell_type": "code",
   "execution_count": 35,
   "id": "heavy-raleigh",
   "metadata": {},
   "outputs": [
    {
     "data": {
      "text/html": [
       "<div>\n",
       "<style scoped>\n",
       "    .dataframe tbody tr th:only-of-type {\n",
       "        vertical-align: middle;\n",
       "    }\n",
       "\n",
       "    .dataframe tbody tr th {\n",
       "        vertical-align: top;\n",
       "    }\n",
       "\n",
       "    .dataframe thead th {\n",
       "        text-align: right;\n",
       "    }\n",
       "</style>\n",
       "<table border=\"1\" class=\"dataframe\">\n",
       "  <thead>\n",
       "    <tr style=\"text-align: right;\">\n",
       "      <th></th>\n",
       "      <th>name</th>\n",
       "      <th>age</th>\n",
       "      <th>email</th>\n",
       "    </tr>\n",
       "  </thead>\n",
       "  <tbody>\n",
       "    <tr>\n",
       "      <th>0</th>\n",
       "      <td>Jang</td>\n",
       "      <td>40</td>\n",
       "      <td>eundong@igloosec</td>\n",
       "    </tr>\n",
       "    <tr>\n",
       "      <th>1</th>\n",
       "      <td>Chris</td>\n",
       "      <td>30</td>\n",
       "      <td>chris@igloosec</td>\n",
       "    </tr>\n",
       "    <tr>\n",
       "      <th>2</th>\n",
       "      <td>Jinie</td>\n",
       "      <td>20</td>\n",
       "      <td>hyejin@igloosec</td>\n",
       "    </tr>\n",
       "    <tr>\n",
       "      <th>3</th>\n",
       "      <td>Simon</td>\n",
       "      <td>30</td>\n",
       "      <td>jonghyeok@igloosec</td>\n",
       "    </tr>\n",
       "    <tr>\n",
       "      <th>4</th>\n",
       "      <td>Sonia</td>\n",
       "      <td>20</td>\n",
       "      <td>namju@igloosec</td>\n",
       "    </tr>\n",
       "    <tr>\n",
       "      <th>5</th>\n",
       "      <td>Sooji</td>\n",
       "      <td>20</td>\n",
       "      <td>sooji@igloosec</td>\n",
       "    </tr>\n",
       "  </tbody>\n",
       "</table>\n",
       "</div>"
      ],
      "text/plain": [
       "    name  age               email\n",
       "0   Jang   40    eundong@igloosec\n",
       "1  Chris   30      chris@igloosec\n",
       "2  Jinie   20     hyejin@igloosec\n",
       "3  Simon   30  jonghyeok@igloosec\n",
       "4  Sonia   20      namju@igloosec\n",
       "5  Sooji   20      sooji@igloosec"
      ]
     },
     "execution_count": 35,
     "metadata": {},
     "output_type": "execute_result"
    }
   ],
   "source": [
    "df"
   ]
  },
  {
   "cell_type": "markdown",
   "id": "reported-motorcycle",
   "metadata": {},
   "source": [
    "## Practice 4 - `combinations`\n",
    "\n",
    "ML 파트는 파트 내의 화합을 위해 모든 구성원의 조합으로 식사를 하려고 해요.\n",
    "\n",
    "```python\n",
    "part = ['Jang', 'Chris', 'Jinie', 'Simon', 'Sonia', 'Sooji']\n",
    "```\n",
    "\n",
    "최소 2명부터, 최대 6명까지 모든 조합의 수를 **직접** 구하세요.\n",
    "\n",
    "\n",
    "잘 되었을 경우 아래와 같이 나올거에요."
   ]
  },
  {
   "cell_type": "code",
   "execution_count": 44,
   "id": "received-vietnam",
   "metadata": {},
   "outputs": [
    {
     "data": {
      "text/plain": [
       "[('Jang', 'Chris'),\n",
       " ('Jang', 'Jinie'),\n",
       " ('Jang', 'Simon'),\n",
       " ('Jang', 'Sonia'),\n",
       " ('Jang', 'Sooji'),\n",
       " ('Chris', 'Jinie'),\n",
       " ('Chris', 'Simon'),\n",
       " ('Chris', 'Sonia'),\n",
       " ('Chris', 'Sooji'),\n",
       " ('Jinie', 'Simon'),\n",
       " ('Jinie', 'Sonia'),\n",
       " ('Jinie', 'Sooji'),\n",
       " ('Simon', 'Sonia'),\n",
       " ('Simon', 'Sooji'),\n",
       " ('Sonia', 'Sooji'),\n",
       " ('Jang', 'Chris', 'Jinie'),\n",
       " ('Jang', 'Chris', 'Simon'),\n",
       " ('Jang', 'Chris', 'Sonia'),\n",
       " ('Jang', 'Chris', 'Sooji'),\n",
       " ('Jang', 'Jinie', 'Simon'),\n",
       " ('Jang', 'Jinie', 'Sonia'),\n",
       " ('Jang', 'Jinie', 'Sooji'),\n",
       " ('Jang', 'Simon', 'Sonia'),\n",
       " ('Jang', 'Simon', 'Sooji'),\n",
       " ('Jang', 'Sonia', 'Sooji'),\n",
       " ('Chris', 'Jinie', 'Simon'),\n",
       " ('Chris', 'Jinie', 'Sonia'),\n",
       " ('Chris', 'Jinie', 'Sooji'),\n",
       " ('Chris', 'Simon', 'Sonia'),\n",
       " ('Chris', 'Simon', 'Sooji'),\n",
       " ('Chris', 'Sonia', 'Sooji'),\n",
       " ('Jinie', 'Simon', 'Sonia'),\n",
       " ('Jinie', 'Simon', 'Sooji'),\n",
       " ('Jinie', 'Sonia', 'Sooji'),\n",
       " ('Simon', 'Sonia', 'Sooji'),\n",
       " ('Jang', 'Chris', 'Jinie', 'Simon'),\n",
       " ('Jang', 'Chris', 'Jinie', 'Sonia'),\n",
       " ('Jang', 'Chris', 'Jinie', 'Sooji'),\n",
       " ('Jang', 'Chris', 'Simon', 'Sonia'),\n",
       " ('Jang', 'Chris', 'Simon', 'Sooji'),\n",
       " ('Jang', 'Chris', 'Sonia', 'Sooji'),\n",
       " ('Jang', 'Jinie', 'Simon', 'Sonia'),\n",
       " ('Jang', 'Jinie', 'Simon', 'Sooji'),\n",
       " ('Jang', 'Jinie', 'Sonia', 'Sooji'),\n",
       " ('Jang', 'Simon', 'Sonia', 'Sooji'),\n",
       " ('Chris', 'Jinie', 'Simon', 'Sonia'),\n",
       " ('Chris', 'Jinie', 'Simon', 'Sooji'),\n",
       " ('Chris', 'Jinie', 'Sonia', 'Sooji'),\n",
       " ('Chris', 'Simon', 'Sonia', 'Sooji'),\n",
       " ('Jinie', 'Simon', 'Sonia', 'Sooji'),\n",
       " ('Jang', 'Chris', 'Jinie', 'Simon', 'Sonia'),\n",
       " ('Jang', 'Chris', 'Jinie', 'Simon', 'Sooji'),\n",
       " ('Jang', 'Chris', 'Jinie', 'Sonia', 'Sooji'),\n",
       " ('Jang', 'Chris', 'Simon', 'Sonia', 'Sooji'),\n",
       " ('Jang', 'Jinie', 'Simon', 'Sonia', 'Sooji'),\n",
       " ('Chris', 'Jinie', 'Simon', 'Sonia', 'Sooji'),\n",
       " ('Jang', 'Chris', 'Jinie', 'Simon', 'Sonia', 'Sooji')]"
      ]
     },
     "execution_count": 44,
     "metadata": {},
     "output_type": "execute_result"
    }
   ],
   "source": [
    "result"
   ]
  }
 ],
 "metadata": {
  "kernelspec": {
   "display_name": "Python 3",
   "language": "python",
   "name": "python3"
  },
  "language_info": {
   "codemirror_mode": {
    "name": "ipython",
    "version": 3
   },
   "file_extension": ".py",
   "mimetype": "text/x-python",
   "name": "python",
   "nbconvert_exporter": "python",
   "pygments_lexer": "ipython3",
   "version": "3.9.0"
  }
 },
 "nbformat": 4,
 "nbformat_minor": 5
}
