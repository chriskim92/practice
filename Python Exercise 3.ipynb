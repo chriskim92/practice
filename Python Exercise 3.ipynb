{
 "cells": [
  {
   "cell_type": "markdown",
   "id": "hearing-saturday",
   "metadata": {},
   "source": [
    "# Python Exercise #3\n",
    "Date: 2021년 3월 24일"
   ]
  },
  {
   "cell_type": "markdown",
   "id": "elementary-relationship",
   "metadata": {},
   "source": [
    "## Practice 5 - `sorted` - Advanced\n",
    "\n",
    "Practice 2번은 잘 푸셨나요? 벌써 기억이 안난다고요? 다시 읽고오세요.\n",
    "\n",
    "오늘은 조금 더 실제 상황에 가까운 데이터를 다뤄볼꺼에요.\n",
    "\n",
    "---\n",
    "\n",
    "ML 파트에서 제공하는 docker image들에는 여러버전이 있어요. \n",
    "\n",
    "아래 `image_names`를 보면..."
   ]
  },
  {
   "cell_type": "code",
   "execution_count": 16,
   "id": "physical-aircraft",
   "metadata": {},
   "outputs": [
    {
     "data": {
      "text/plain": [
       "['gpu_ml_igloo:2020Oct24',\n",
       " 'gpu_ml_igloo:2019Feb06',\n",
       " 'gpu_ml_igloo:2019Aug24',\n",
       " 'gpu_ml_igloo:2019Jul10',\n",
       " 'gpu_ml_igloo:2019Dec23',\n",
       " 'gpu_ml_igloo:2019Dec09',\n",
       " 'gpu_ml_igloo:2020Dec21',\n",
       " 'gpu_ml_igloo:2020Aug31',\n",
       " 'gpu_ml_igloo:2021Jan20',\n",
       " 'gpu_ml_igloo:latest',\n",
       " 'gpu_ml_igloo:2020Mar12']"
      ]
     },
     "execution_count": 16,
     "metadata": {},
     "output_type": "execute_result"
    }
   ],
   "source": [
    "image_names"
   ]
  },
  {
   "cell_type": "markdown",
   "id": "turned-expert",
   "metadata": {},
   "source": [
    "`<image_name>:<date_of_creation>` 형식으로 만들어져 있는걸 알수 있어요.\n",
    "\n",
    "그치만, `sudo docker image ls`를 해보면 `latest`를 시작으로 가장 최신 이미지부터 내림차순으로 나오는걸 알 수 있어요. \n",
    "\n",
    "우리도 가능해야겠죠?\n",
    "\n",
    "**`image_names`를 정렬해서 `latest`를 시작으로하는 최신순으로 정렬된 새로운 배열을 만들어보세요**\n",
    "\n",
    "\n",
    "잘 되었을 경우 아래와 같이 나올 거에요."
   ]
  },
  {
   "cell_type": "code",
   "execution_count": null,
   "id": "ready-regulation",
   "metadata": {},
   "outputs": [],
   "source": [
    "sorted_images_names = ['gpu_ml_igloo:latest',\n",
    " 'gpu_ml_igloo:2021Jan20',\n",
    " 'gpu_ml_igloo:2020Dec21',\n",
    " 'gpu_ml_igloo:2020Oct24',\n",
    " 'gpu_ml_igloo:2020Aug31',\n",
    " 'gpu_ml_igloo:2020Mar12',\n",
    " 'gpu_ml_igloo:2019Dec23',\n",
    " 'gpu_ml_igloo:2019Dec09',\n",
    " 'gpu_ml_igloo:2019Aug24',\n",
    " 'gpu_ml_igloo:2019Jul10',\n",
    " 'gpu_ml_igloo:2019Feb06']"
   ]
  },
  {
   "cell_type": "markdown",
   "id": "stupid-diagram",
   "metadata": {},
   "source": [
    "## Practice 6 - `pandas`: `conditional selection`\n",
    "\n",
    "이번 문제는 데이터가 크기 때문에 아래와 같이 데이터를 똑같이 생성하고, 무결점성 테스트를 진행해주세요.\n",
    "\n",
    "무결점성에서 에러가 나면 저한테 직접 데이터를 요청해주세요."
   ]
  },
  {
   "cell_type": "code",
   "execution_count": 82,
   "id": "portuguese-antigua",
   "metadata": {},
   "outputs": [
    {
     "data": {
      "text/plain": [
       "0    ptgvmuyzprxjlmwyqfqjwpsqmfcgdhlajlqdctmb\n",
       "1    ltlrothklorxnuamfrfzzunqjiymgywmtprsvocf\n",
       "2    nghedfopwuwppckeshzxloxszxujazczbszrvhex\n",
       "3    hruavujsjbodmvjntaeeawyuimryjpicqlcspdoc\n",
       "4    zxeybzkcxnudsmfvrqinlpuqaratzrztxjdeublr\n",
       "Name: 0, dtype: object"
      ]
     },
     "execution_count": 82,
     "metadata": {},
     "output_type": "execute_result"
    }
   ],
   "source": [
    "import hashlib\n",
    "from string import ascii_lowercase\n",
    "\n",
    "np.random.seed(1234)\n",
    "arr = np.random.choice(list(ascii_lowercase), (10000, 40))\n",
    "df = pd.DataFrame(arr)\n",
    "ser = df[0].str.cat(df.iloc[:, 1:])\n",
    "ser.head()"
   ]
  },
  {
   "cell_type": "code",
   "execution_count": 83,
   "id": "annoying-sleeve",
   "metadata": {},
   "outputs": [],
   "source": [
    "# 무결점성 체크\n",
    "\n",
    "my_hash = hashlib.sha1(pd.util.hash_pandas_object(ser).values).hexdigest()\n",
    "assert my_hash == '172cdb38fc4e51dda9766cdd2406f0ea7e3fbdf0', \"CALL CHRIS!\""
   ]
  },
  {
   "cell_type": "markdown",
   "id": "stupid-heavy",
   "metadata": {},
   "source": [
    "이번 문제는 아주 간단하지만 아주 어려워요(?ㅋㅋ)\n",
    "\n",
    "`ser`는 40개의 랜덤한 알파벳으로 이루어져 있는 1만개의 단어로 이루어진 `pandas.Series`에요.\n",
    "\n",
    "여기서 알파벳 `a` 부터 `z`까지 모든 알파벳을 가지고 있는 단어는 몇개나 있는지 찾아주세요."
   ]
  }
 ],
 "metadata": {
  "kernelspec": {
   "display_name": "Python 3",
   "language": "python",
   "name": "python3"
  },
  "language_info": {
   "codemirror_mode": {
    "name": "ipython",
    "version": 3
   },
   "file_extension": ".py",
   "mimetype": "text/x-python",
   "name": "python",
   "nbconvert_exporter": "python",
   "pygments_lexer": "ipython3",
   "version": "3.9.0"
  }
 },
 "nbformat": 4,
 "nbformat_minor": 5
}
