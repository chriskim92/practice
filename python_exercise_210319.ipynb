{
  "nbformat": 4,
  "nbformat_minor": 0,
  "metadata": {
    "colab": {
      "name": "Untitled4.ipynb",
      "provenance": [],
      "collapsed_sections": [],
      "authorship_tag": "ABX9TyP4ODUKvk2/z3pByrmu/agh",
      "include_colab_link": true
    },
    "kernelspec": {
      "name": "python3",
      "display_name": "Python 3"
    },
    "language_info": {
      "name": "python"
    }
  },
  "cells": [
    {
      "cell_type": "markdown",
      "metadata": {
        "id": "view-in-github",
        "colab_type": "text"
      },
      "source": [
        "<a href=\"https://colab.research.google.com/github/milple1742/practice/blob/main/python_exercise_210319.ipynb\" target=\"_parent\"><img src=\"https://colab.research.google.com/assets/colab-badge.svg\" alt=\"Open In Colab\"/></a>"
      ]
    },
    {
      "cell_type": "code",
      "metadata": {
        "id": "-7r6W9xIFwlr"
      },
      "source": [
        "# Python Exercise #1\n",
        "\n",
        "Date: 2021년 3월 19일 금\n",
        "\n",
        "## Practice 1 - `pandas`\n",
        "\n",
        "아래의 긴 `str ` 값을 `pandas.DataFrame`로 만드세요.\n",
        "\n",
        "*   조건 1: 파일로 생성해서 읽으면 안되요.\n",
        "\n",
        "```python\n",
        "new_str = \"\"\"name age email\n",
        "jang\t40\teundong.jang@igloosec.com\n",
        "chris\t30\tchris.kim@igloosec.com\n",
        "jinie\t20\thyejin.park@igloosec.com\n",
        "simon\t30\tjonghyeok.lee@igloosec.com\n",
        "sonia\t20\tnamju.kim@igloosec.com\n",
        "sooji\t20\tsooji.noh@igloose.com\n",
        "\"\"\"\n",
        "```\n",
        "\n",
        "잘 되었을 경우 아래와 같이 나올거에요.\n",
        "\n",
        "![image-20210319141033229](/Users/chris/Library/Application Support/typora-user-images/image-20210319141033229.png)\n",
        "\n",
        "## Practice 2 - `sort`\n",
        "\n",
        "Practice 1에서 사용했던 6개의 이메일 주소에 대해 알파벳 오름차순으로 정렬하세요.\n",
        "\n",
        "다만, 먼저 성으로 정렬하고, 그 후 이름으로 정렬하세요.\n",
        "\n",
        "잘 되었을 경우 아래와 같이 나올 거에요.\n",
        "\n",
        "*   힌트 1: `sort` (또는 `sorted`)를 2번 할 필요는 없어요.\n",
        "\n",
        "```python\n",
        "answer = [\n",
        " 'eundong.jang@igloosec.com',\n",
        " 'chris.kim@igloosec.com',\n",
        " 'namju.kim@igloosec.com',\n",
        " 'jonghyeok.lee@igloosec.com',\n",
        " 'sooji.noh@igloose.com',\n",
        " 'hyejin.park@igloosec.com']\n",
        "```\n",
        "\n"
      ],
      "execution_count": null,
      "outputs": []
    }
  ]
}